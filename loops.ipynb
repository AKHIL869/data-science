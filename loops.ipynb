{
 "cells": [
  {
   "cell_type": "markdown",
   "metadata": {},
   "source": [
    "FOR for temp_var in iterable: statement 1 ...\n",
    "\n",
    "statement n\n",
    "... iterables are string,list,tuple,set,dict,generators, etc"
   ]
  },
  {
   "cell_type": "code",
   "execution_count": 1,
   "metadata": {},
   "outputs": [
    {
     "name": "stdout",
     "output_type": "stream",
     "text": [
      "1\n",
      "23\n",
      "5\n",
      "6\n",
      "3\n",
      "6\n",
      "21\n",
      "6\n",
      "6\n"
     ]
    }
   ],
   "source": [
    "nums = [1,23,5,6,3,6,21,6,6]\n",
    "for i in nums:\n",
    "    print(i)"
   ]
  },
  {
   "cell_type": "markdown",
   "metadata": {},
   "source": [
    "- ENUMERATE\n",
    "- ZIP"
   ]
  },
  {
   "cell_type": "code",
   "execution_count": 2,
   "metadata": {},
   "outputs": [
    {
     "name": "stdout",
     "output_type": "stream",
     "text": [
      "(0, 'John')\n",
      "(1, 'Jane')\n",
      "(2, 'Jack')\n",
      "(3, 'Jill')\n"
     ]
    }
   ],
   "source": [
    "names = ['John', 'Jane', 'Jack', 'Jill']\n",
    "for name in enumerate(names): #index bhi print krega\n",
    "    print(name)"
   ]
  },
  {
   "cell_type": "code",
   "execution_count": 3,
   "metadata": {},
   "outputs": [
    {
     "name": "stdout",
     "output_type": "stream",
     "text": [
      "John 0\n",
      "Jane 1\n",
      "Jack 2\n",
      "Jill 3\n"
     ]
    }
   ],
   "source": [
    "for idx,  name in enumerate(names): #index bhi print krega\n",
    "    print(name, idx)\n",
    "    "
   ]
  },
  {
   "cell_type": "code",
   "execution_count": 4,
   "metadata": {},
   "outputs": [
    {
     "name": "stdout",
     "output_type": "stream",
     "text": [
      "2\n",
      "9\n",
      "30\n",
      "56\n",
      "90\n"
     ]
    }
   ],
   "source": [
    "x = [2,3,6,8,10]\n",
    "y = [1,3,5,7,9]\n",
    "#ek se zada iterables ko iterate krana\n",
    "for i,j in zip(x,y):\n",
    "    print(i*j)"
   ]
  },
  {
   "cell_type": "code",
   "execution_count": 5,
   "metadata": {},
   "outputs": [
    {
     "name": "stdout",
     "output_type": "stream",
     "text": [
      "5\n",
      "15\n",
      "39\n",
      "68\n",
      "105\n"
     ]
    }
   ],
   "source": [
    "z = [3,6,9,12,15]\n",
    "for i,j,k in zip(x,y,z):\n",
    "    print(i*j+k)"
   ]
  },
  {
   "cell_type": "code",
   "execution_count": 6,
   "metadata": {},
   "outputs": [
    {
     "name": "stdout",
     "output_type": "stream",
     "text": [
      "Interstellar        8.6⭐\n",
      "The Martian         8.0⭐\n",
      "Gravity             7.7⭐\n",
      "Apollo 13           7.6⭐\n"
     ]
    }
   ],
   "source": [
    "movies = ['Interstellar', 'The Martian', 'Gravity', 'Apollo 13']\n",
    "rating = [8.6,8.0,7.7,7.6]\n",
    "for name,star in zip(movies, rating):\n",
    "    print(f'{name:20}{star}⭐')"
   ]
  },
  {
   "cell_type": "code",
   "execution_count": 2,
   "metadata": {},
   "outputs": [
    {
     "name": "stdout",
     "output_type": "stream",
     "text": [
      "1223221223"
     ]
    }
   ],
   "source": [
    "x = [1,2,2,3,2,2,1,2,2,3,0,4,5,1,2,4,5]\n",
    "for i in x:\n",
    "    if i == 0:\n",
    "        break\n",
    "    print(i, end='')"
   ]
  },
  {
   "cell_type": "code",
   "execution_count": 3,
   "metadata": {},
   "outputs": [
    {
     "name": "stdout",
     "output_type": "stream",
     "text": [
      "12232"
     ]
    }
   ],
   "source": [
    "x = [1,2,2,3,2,0,2,1,2,2,3,4,5,1,2,4,5]\n",
    "for i in x:\n",
    "    if i == 0:\n",
    "        break\n",
    "    print(i, end='')"
   ]
  },
  {
   "cell_type": "code",
   "execution_count": 4,
   "metadata": {},
   "outputs": [
    {
     "name": "stdout",
     "output_type": "stream",
     "text": [
      "12232"
     ]
    }
   ],
   "source": [
    "for i in x:\n",
    "    if i == 0:\n",
    "        break\n",
    "    print(i, end ='')\n",
    "else:\n",
    "    print('loop completed')    "
   ]
  },
  {
   "cell_type": "code",
   "execution_count": 6,
   "metadata": {},
   "outputs": [
    {
     "name": "stdout",
     "output_type": "stream",
     "text": [
      "1223221223451245loop completed\n"
     ]
    }
   ],
   "source": [
    "x = [1,2,2,3,2,2,1,2,2,3,4,5,1,2,4,5]\n",
    "for i in x:\n",
    "    if i == 0:\n",
    "        break\n",
    "    print(i, end='')\n",
    "else:\n",
    "    print('loop completed')    "
   ]
  },
  {
   "cell_type": "code",
   "execution_count": 7,
   "metadata": {},
   "outputs": [
    {
     "name": "stdout",
     "output_type": "stream",
     "text": [
      "prime\n"
     ]
    }
   ],
   "source": [
    "num = 7\n",
    "for i in range(2, num):\n",
    "    if num % i == 0:\n",
    "        print('not prime')\n",
    "        break\n",
    "else:\n",
    "    print('prime')    "
   ]
  },
  {
   "cell_type": "code",
   "execution_count": 8,
   "metadata": {},
   "outputs": [
    {
     "name": "stdout",
     "output_type": "stream",
     "text": [
      "45 % 2 = 1\n",
      "45 % 3 = 0\n",
      "not prime\n"
     ]
    }
   ],
   "source": [
    "num = int(input('enter a number: '))\n",
    "for i in range(2, num):\n",
    "    print(f'{num} % {i} = {num % i}')\n",
    "    if num % i == 0:\n",
    "        print('not prime')\n",
    "        break\n",
    "else:\n",
    "    print('prime')"
   ]
  },
  {
   "cell_type": "code",
   "execution_count": 9,
   "metadata": {},
   "outputs": [
    {
     "name": "stdout",
     "output_type": "stream",
     "text": [
      "1 2 3 5 1 2 3 3 2 1 2 3 3 "
     ]
    }
   ],
   "source": [
    "x = [1,2,3,None,5,1,None,2,3,None,3,2,1,2,3,None,3]\n",
    "for num in x:\n",
    "    if num is None:\n",
    "        continue\n",
    "    print(num, end=' ')\n"
   ]
  },
  {
   "cell_type": "code",
   "execution_count": 10,
   "metadata": {},
   "outputs": [
    {
     "name": "stdout",
     "output_type": "stream",
     "text": [
      "1 2 3 5 1 2 3 3 2 1 2 3 3 "
     ]
    }
   ],
   "source": [
    "for num in x:\n",
    "    if num is not None:\n",
    "        print(num, end=' ')"
   ]
  },
  {
   "cell_type": "markdown",
   "metadata": {},
   "source": [
    "#sum  ek function h to uske naam se variable nhin banega"
   ]
  },
  {
   "cell_type": "code",
   "execution_count": 13,
   "metadata": {},
   "outputs": [
    {
     "name": "stdout",
     "output_type": "stream",
     "text": [
      "28\n"
     ]
    }
   ],
   "source": [
    "odd_sum = 0\n",
    "for num in x:\n",
    "    if num is not None and num % 2 !=0:\n",
    "        odd_sum += num\n",
    "print(odd_sum)"
   ]
  },
  {
   "cell_type": "markdown",
   "metadata": {},
   "source": [
    "INFINITE LOOP"
   ]
  },
  {
   "cell_type": "code",
   "execution_count": 17,
   "metadata": {},
   "outputs": [
    {
     "name": "stdout",
     "output_type": "stream",
     "text": [
      "wrong username\n",
      "wrong username\n",
      "wrong username\n",
      "welcome admin\n"
     ]
    }
   ],
   "source": [
    "while True:\n",
    "    user = input('🐱‍👤 enter username:')\n",
    "    password = input ('🙌 enter password')\n",
    "    if user == 'admin':\n",
    "        if password == 'secret':\n",
    "            print('welcome admin')\n",
    "            break\n",
    "        else:\n",
    "            print('wrong password')\n",
    "    else:\n",
    "        print('wrong username')        "
   ]
  }
 ],
 "metadata": {
  "kernelspec": {
   "display_name": "base",
   "language": "python",
   "name": "python3"
  },
  "language_info": {
   "codemirror_mode": {
    "name": "ipython",
    "version": 3
   },
   "file_extension": ".py",
   "mimetype": "text/x-python",
   "name": "python",
   "nbconvert_exporter": "python",
   "pygments_lexer": "ipython3",
   "version": "3.10.10"
  },
  "orig_nbformat": 4
 },
 "nbformat": 4,
 "nbformat_minor": 2
}
