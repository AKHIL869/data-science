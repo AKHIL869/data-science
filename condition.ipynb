{
 "cells": [
  {
   "cell_type": "markdown",
   "metadata": {},
   "source": [
    "conditions \n",
    " - if \n",
    " - if else\n",
    " - if elif else\n",
    " - match case"
   ]
  },
  {
   "cell_type": "code",
   "execution_count": 1,
   "metadata": {},
   "outputs": [],
   "source": [
    "x = 10\n",
    "y = 3"
   ]
  },
  {
   "cell_type": "code",
   "execution_count": 4,
   "metadata": {},
   "outputs": [
    {
     "name": "stdout",
     "output_type": "stream",
     "text": [
      "x is greater than y\n",
      "thst is true\n",
      "that is always printed\n"
     ]
    }
   ],
   "source": [
    "if x > y:\n",
    "    print(\"x is greater than y\")\n",
    "    print('thst is true')\n",
    "print('that is always printed')  # to move the line from if   "
   ]
  },
  {
   "cell_type": "code",
   "execution_count": 5,
   "metadata": {},
   "outputs": [],
   "source": [
    "if x == y:\n",
    "    print('wow')"
   ]
  },
  {
   "cell_type": "code",
   "execution_count": 6,
   "metadata": {},
   "outputs": [
    {
     "name": "stdout",
     "output_type": "stream",
     "text": [
      "x is greater thany and x is greater than 8\n"
     ]
    }
   ],
   "source": [
    "if x > y and x > 8:\n",
    "    print('x is greater thany and x is greater than 8')"
   ]
  },
  {
   "cell_type": "markdown",
   "metadata": {},
   "source": [
    "true values \n",
    "- true \n",
    "- non - zero numbers \n",
    "- non - empty strings \n",
    "\n",
    "false values \n",
    "\n",
    "- false\n",
    "- 0\n",
    "- 0.0\n",
    "- none\n",
    "-  empty strings"
   ]
  },
  {
   "cell_type": "code",
   "execution_count": 8,
   "metadata": {},
   "outputs": [
    {
     "name": "stdout",
     "output_type": "stream",
     "text": [
      "you did not enter a name\n"
     ]
    }
   ],
   "source": [
    "name = input (' enetr a name')\n",
    "if name:\n",
    "    print(f'you entered {name}')\n",
    "else:\n",
    "    print('you did not enter a name')   "
   ]
  },
  {
   "cell_type": "code",
   "execution_count": 9,
   "metadata": {},
   "outputs": [
    {
     "name": "stdout",
     "output_type": "stream",
     "text": [
      "even\n"
     ]
    }
   ],
   "source": [
    "x = int(input('enter a number'))\n",
    "if x % 2 ==0:\n",
    "    print('even')\n",
    "else:\n",
    "    print('odd')    "
   ]
  },
  {
   "cell_type": "code",
   "execution_count": 15,
   "metadata": {},
   "outputs": [
    {
     "name": "stdout",
     "output_type": "stream",
     "text": [
      "welcome akhil\n"
     ]
    }
   ],
   "source": [
    "username = input('enter username')\n",
    "password = input('enter password')\n",
    "if username == 'akhil':\n",
    "    if password == 'Akhil@123':\n",
    "        print('welcome akhil')\n",
    "    else:\n",
    "        print('invalid password')\n",
    "else:\n",
    "    print('invalid username')            "
   ]
  },
  {
   "cell_type": "code",
   "execution_count": 16,
   "metadata": {},
   "outputs": [
    {
     "name": "stdout",
     "output_type": "stream",
     "text": [
      "holiday day\n"
     ]
    }
   ],
   "source": [
    "day = input('enter day')\n",
    "if day == \"monday\":\n",
    "    print('monday')\n",
    "elif day == 'tuesday':\n",
    "    print('tuesday')\n",
    "elif day == 'wednesday':\n",
    "    print('wednesday')\n",
    "else:\n",
    "    print('holiday day')            "
   ]
  },
  {
   "cell_type": "code",
   "execution_count": 17,
   "metadata": {},
   "outputs": [
    {
     "name": "stdout",
     "output_type": "stream",
     "text": [
      "holiday\n"
     ]
    }
   ],
   "source": [
    "day = input('enter day')\n",
    "match day:\n",
    "    case 'monday':\n",
    "        print('time to work')\n",
    "    case 'tuesday''wednesday':\n",
    "        print('time to work again')\n",
    "    case 'thursday':\n",
    "        print('lmost there')\n",
    "    case 'friday':\n",
    "        print('weeknd , not really')\n",
    "    case _:\n",
    "        print('holiday')            \n"
   ]
  },
  {
   "cell_type": "code",
   "execution_count": 18,
   "metadata": {},
   "outputs": [
    {
     "name": "stdout",
     "output_type": "stream",
     "text": [
      "tauras\n"
     ]
    }
   ],
   "source": [
    "month = input('enter month')\n",
    "match month:\n",
    "    case 'january' 'july' 'september':\n",
    "        print('scorpion')\n",
    "    case 'december' 'june' 'may':\n",
    "        print('aquarius')\n",
    "    case 'february' 'april':\n",
    "        print('aries')\n",
    "    case _:\n",
    "        print ('tauras')          "
   ]
  }
 ],
 "metadata": {
  "kernelspec": {
   "display_name": "base",
   "language": "python",
   "name": "python3"
  },
  "language_info": {
   "codemirror_mode": {
    "name": "ipython",
    "version": 3
   },
   "file_extension": ".py",
   "mimetype": "text/x-python",
   "name": "python",
   "nbconvert_exporter": "python",
   "pygments_lexer": "ipython3",
   "version": "3.10.10"
  },
  "orig_nbformat": 4
 },
 "nbformat": 4,
 "nbformat_minor": 2
}
