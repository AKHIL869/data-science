{
 "cells": [
  {
   "cell_type": "code",
   "execution_count": 10,
   "metadata": {},
   "outputs": [],
   "source": [
    "class cat:\n",
    "    def __init__(self):\n",
    "        print(\"the class constructor\")"
   ]
  },
  {
   "cell_type": "code",
   "execution_count": 11,
   "metadata": {},
   "outputs": [
    {
     "name": "stdout",
     "output_type": "stream",
     "text": [
      "the class constructor\n",
      "<__main__.cat object at 0x00000203679C2B00>\n"
     ]
    }
   ],
   "source": [
    "c1 = cat()\n",
    "print(c1)"
   ]
  },
  {
   "cell_type": "code",
   "execution_count": 20,
   "metadata": {},
   "outputs": [],
   "source": [
    "class student:\n",
    "    def __init__(self,name,klass,rollnum,stream=\"Bio\"):\n",
    "        self.name = name\n",
    "        self.klass = klass\n",
    "        self.rollnum = rollnum\n",
    "        self.stream = stream\n",
    "        self.marks = {}   #property of the class\n",
    "\n",
    "    def think(self,object):\n",
    "        print(f\"{self.name}  is thinking about{object}\")    \n",
    "    def setMarks(self,subject,value):\n",
    "        self.marks[subject] = value"
   ]
  },
  {
   "cell_type": "code",
   "execution_count": 25,
   "metadata": {},
   "outputs": [
    {
     "ename": "AttributeError",
     "evalue": "'student' object has no attribute 'setmarks'",
     "output_type": "error",
     "traceback": [
      "\u001b[1;31m---------------------------------------------------------------------------\u001b[0m",
      "\u001b[1;31mAttributeError\u001b[0m                            Traceback (most recent call last)",
      "Cell \u001b[1;32mIn[25], line 4\u001b[0m\n\u001b[0;32m      1\u001b[0m aditi \u001b[39m=\u001b[39m student(\u001b[39m\"\u001b[39m\u001b[39maditi\u001b[39m\u001b[39m\"\u001b[39m,\u001b[39m12\u001b[39m,\u001b[39m22\u001b[39m,\u001b[39m\"\u001b[39m\u001b[39mcse\u001b[39m\u001b[39m\"\u001b[39m)\n\u001b[0;32m      2\u001b[0m anmol \u001b[39m=\u001b[39m student(\u001b[39m\"\u001b[39m\u001b[39manmol\u001b[39m\u001b[39m\"\u001b[39m,\u001b[39m11\u001b[39m,\u001b[39m23\u001b[39m)\n\u001b[1;32m----> 4\u001b[0m anmol\u001b[39m.\u001b[39;49msetmarks(\u001b[39m'\u001b[39m\u001b[39mhindi\u001b[39m\u001b[39m'\u001b[39m,\u001b[39m90\u001b[39m)\n\u001b[0;32m      5\u001b[0m anmol\u001b[39m.\u001b[39msetmarks(\u001b[39m'\u001b[39m\u001b[39menglish\u001b[39m\u001b[39m'\u001b[39m,\u001b[39m95\u001b[39m)\n",
      "\u001b[1;31mAttributeError\u001b[0m: 'student' object has no attribute 'setmarks'"
     ]
    }
   ],
   "source": [
    "aditi = student(\"aditi\",12,22,\"cse\")\n",
    "anmol = student(\"anmol\",11,23)\n",
    "\n",
    "anmol.setmarks('hindi',90)\n",
    "anmol.setmarks('english',95)"
   ]
  },
  {
   "cell_type": "code",
   "execution_count": 32,
   "metadata": {},
   "outputs": [
    {
     "name": "stdout",
     "output_type": "stream",
     "text": [
      "aditi  is thinking about kisi ke baare mein\n"
     ]
    }
   ],
   "source": [
    "aditi.think(\" kisi ke baare mein\")"
   ]
  },
  {
   "cell_type": "markdown",
   "metadata": {},
   "source": [
    "INHERITANCE"
   ]
  },
  {
   "cell_type": "code",
   "execution_count": 37,
   "metadata": {},
   "outputs": [],
   "source": [
    "class superlist(list):\n",
    "    def all_index(self,search):\n",
    "        idxs = [] \n",
    "        start_idx = 0\n",
    "        for i in range(self.count(search)):\n",
    "            pos = self.index(search,start_idx)\n",
    "            idxs.append(pos)\n",
    "            start_idx = pos +1  \n",
    "        return idxs            "
   ]
  },
  {
   "cell_type": "code",
   "execution_count": 39,
   "metadata": {},
   "outputs": [
    {
     "name": "stdout",
     "output_type": "stream",
     "text": [
      "[1, 2, 3, 4, 5]\n",
      "[1, 2, 3, 4, 5, 20]\n"
     ]
    }
   ],
   "source": [
    "x = superlist([1,2,3,4,5])\n",
    "print(x)\n",
    "x.append(20)\n",
    "print(x)"
   ]
  },
  {
   "cell_type": "code",
   "execution_count": 40,
   "metadata": {},
   "outputs": [
    {
     "data": {
      "text/plain": [
       "[4]"
      ]
     },
     "execution_count": 40,
     "metadata": {},
     "output_type": "execute_result"
    }
   ],
   "source": [
    "x.all_index(5)"
   ]
  }
 ],
 "metadata": {
  "kernelspec": {
   "display_name": "base",
   "language": "python",
   "name": "python3"
  },
  "language_info": {
   "codemirror_mode": {
    "name": "ipython",
    "version": 3
   },
   "file_extension": ".py",
   "mimetype": "text/x-python",
   "name": "python",
   "nbconvert_exporter": "python",
   "pygments_lexer": "ipython3",
   "version": "3.10.10"
  },
  "orig_nbformat": 4
 },
 "nbformat": 4,
 "nbformat_minor": 2
}
