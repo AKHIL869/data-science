{
 "cells": [
  {
   "cell_type": "markdown",
   "metadata": {},
   "source": [
    "Write a program to print numbers from 1 to 10 using a for loop.\n"
   ]
  },
  {
   "cell_type": "code",
   "execution_count": null,
   "metadata": {},
   "outputs": [
    {
     "name": "stdout",
     "output_type": "stream",
     "text": [
      "12345678910"
     ]
    }
   ],
   "source": [
    "x =[1,2,3,4,5,6,7,8,9,10]\n",
    "for i in x:\n",
    "    print(i,end='')"
   ]
  },
  {
   "cell_type": "code",
   "execution_count": 7,
   "metadata": {},
   "outputs": [
    {
     "name": "stdout",
     "output_type": "stream",
     "text": [
      "12345678910"
     ]
    }
   ],
   "source": [
    "for i in range(1,11):\n",
    "   print(i,end='')"
   ]
  },
  {
   "cell_type": "markdown",
   "metadata": {},
   "source": [
    "Write a program to print the multiplication table of a given number using a while loop.\n"
   ]
  },
  {
   "cell_type": "code",
   "execution_count": 11,
   "metadata": {},
   "outputs": [
    {
     "name": "stdout",
     "output_type": "stream",
     "text": [
      "2x1=2\n",
      "2x2=4\n",
      "2x3=6\n",
      "2x4=8\n",
      "2x5=10\n",
      "2x6=12\n",
      "2x7=14\n",
      "2x8=16\n",
      "2x9=18\n",
      "2x10=20\n"
     ]
    }
   ],
   "source": [
    "num = int(input(\"enter a number\"))\n",
    "c = 1\n",
    "while c<=10:\n",
    "    result=num*c\n",
    "    print(f\"{num}x{c}={result}\")\n",
    "    c+=1\n",
    "\n"
   ]
  },
  {
   "cell_type": "markdown",
   "metadata": {},
   "source": [
    "Write a program to find the sum of all even numbers between 1 and 100 using a for loop."
   ]
  },
  {
   "cell_type": "code",
   "execution_count": 15,
   "metadata": {},
   "outputs": [
    {
     "name": "stdout",
     "output_type": "stream",
     "text": [
      "the sum of even umber 1 to 100 is =2550\n"
     ]
    }
   ],
   "source": [
    "sum_even = 0\n",
    "for num in range(1,101):\n",
    "    if num % 2==0:\n",
    "        sum_even += num\n",
    "print(f\"the sum of even umber 1 to 100 is ={sum_even}\")        "
   ]
  },
  {
   "cell_type": "code",
   "execution_count": 18,
   "metadata": {},
   "outputs": [
    {
     "name": "stdout",
     "output_type": "stream",
     "text": [
      "sum of 1 to 100 numbers 2550\n"
     ]
    }
   ],
   "source": [
    "sum =0\n",
    "for i in range(1,101):\n",
    "    if i%2==0:\n",
    "        sum=sum+i\n",
    "print(f\"sum of 1 to 100 numbers\",sum)        "
   ]
  },
  {
   "cell_type": "code",
   "execution_count": 15,
   "metadata": {},
   "outputs": [
    {
     "name": "stdout",
     "output_type": "stream",
     "text": [
      "2550\n"
     ]
    }
   ],
   "source": [
    "sum=0\n",
    "for i in range(1,101):\n",
    "    if i%2 == 0:\n",
    "        sum = sum +i\n",
    "print(sum)\n"
   ]
  },
  {
   "cell_type": "markdown",
   "metadata": {},
   "source": [
    "Write a program to check if a given number is prime or not using a while loop."
   ]
  },
  {
   "cell_type": "code",
   "execution_count": 9,
   "metadata": {},
   "outputs": [
    {
     "name": "stdout",
     "output_type": "stream",
     "text": [
      "1 is not a prime number\n"
     ]
    }
   ],
   "source": [
    "num = int(input(\"Enter a number: \"))\n",
    "\n",
    "if num <= 1:\n",
    "    print(num, \"is not a prime number\")\n",
    "elif num == 2:\n",
    "    print(num, \"is a prime number\")\n",
    "else:\n",
    "    for n in range(2, int(num ** 0.5) + 1):\n",
    "        if num % n == 0:\n",
    "            print(num, \"is not a prime number\")\n",
    "            break\n",
    "    else:\n",
    "        print(num, \"is a prime number\")\n"
   ]
  },
  {
   "cell_type": "code",
   "execution_count": 20,
   "metadata": {},
   "outputs": [
    {
     "name": "stdout",
     "output_type": "stream",
     "text": [
      "3 is a prime number\n"
     ]
    }
   ],
   "source": [
    "num = int(input(\"enter a number:\"))\n",
    "if num<=1:\n",
    "    print(num,\"is not a prime number\")\n",
    "elif num==2:\n",
    "    print(num,\"is a prime number\")\n",
    "else:\n",
    "    for n in range(2,int(num**0.5)+1):\n",
    "        if num %n ==0:\n",
    "            print(num,\"is not a prime number\")\n",
    "            break\n",
    "    else:\n",
    "        print(num,\"is a prime number\")    \n"
   ]
  },
  {
   "cell_type": "markdown",
   "metadata": {},
   "source": [
    "Write a program to calculate the factorial of a number using a for loop.\n"
   ]
  },
  {
   "cell_type": "code",
   "execution_count": 5,
   "metadata": {},
   "outputs": [
    {
     "name": "stdout",
     "output_type": "stream",
     "text": [
      "factorial of 4 is 24\n"
     ]
    }
   ],
   "source": [
    "num = int(input(\"enter a number:\"))\n",
    "if num < 0:\n",
    "    print(\"factorial is not defined for the negative numbers:\")\n",
    "elif num ==0:\n",
    "    print(\"factorial of 0 is 1:\")\n",
    "else:\n",
    "    factorial=1\n",
    "    for i in range(1,num+1):\n",
    "      factorial *= i\n",
    "    print(f\"factorial of {num} is {factorial}\")    "
   ]
  },
  {
   "cell_type": "markdown",
   "metadata": {},
   "source": [
    "Write a program to print the Fibonacci series up to a given limit using a while loop."
   ]
  },
  {
   "cell_type": "code",
   "execution_count": 13,
   "metadata": {},
   "outputs": [
    {
     "name": "stdout",
     "output_type": "stream",
     "text": [
      "Fibonacci series:\n",
      "0 1 1 2 3 5 8 \n"
     ]
    }
   ],
   "source": [
    "# Input from the user\n",
    "limit = int(input(\"Enter the limit for Fibonacci series: \"))\n",
    "\n",
    "# Initialize the first two terms of the series\n",
    "a, b = 0, 1\n",
    "\n",
    "# Print the first two terms\n",
    "print(\"Fibonacci series:\")\n",
    "print(a, end=\" \")\n",
    "print(b, end=\" \")\n",
    "\n",
    "# Generate the Fibonacci series using a while loop\n",
    "while a + b <= limit:\n",
    "    c = a + b\n",
    "    print(c, end=\" \")\n",
    "    a = b\n",
    "    b = c\n",
    "\n",
    "print()  # Print a newline after the series is printed"
   ]
  },
  {
   "cell_type": "markdown",
   "metadata": {},
   "source": [
    "Write a program to find the largest element in an array using a for loop."
   ]
  },
  {
   "cell_type": "code",
   "execution_count": 3,
   "metadata": {},
   "outputs": [
    {
     "name": "stdout",
     "output_type": "stream",
     "text": [
      "the largest element in the array is: 34\n"
     ]
    }
   ],
   "source": [
    "my_array =[23,4,34,12,3,4,5]\n",
    "largest = my_array[0]\n",
    "for element in  my_array:\n",
    "    if element>largest:\n",
    "        largest = element\n",
    "print(\"the largest element in the array is:\",largest)        \n",
    "\n"
   ]
  },
  {
   "cell_type": "markdown",
   "metadata": {},
   "source": [
    "Write a program to reverse a given string using a while loop."
   ]
  },
  {
   "cell_type": "code",
   "execution_count": null,
   "metadata": {},
   "outputs": [],
   "source": [
    "# Input string\n",
    "input_string = input(\"Enter a string: \")\n",
    "\n",
    "# Convert the string to a list of characters\n",
    "char_list = list(input_string)\n",
    "\n",
    "# Initialize pointers\n",
    "start = 0\n",
    "end = len(char_list) - 1\n",
    "\n",
    "# Swap characters using a while loop\n",
    "while start < end:\n",
    "    # Swap characters at start and end positions\n",
    "    char_list[start], char_list[end] = char_list[end], char_list[start]\n",
    "    \n",
    "    # Move pointers towards each other\n",
    "    start += 1\n",
    "    end -= 1\n",
    "\n",
    "# Convert the list of characters back to a string\n",
    "reversed_string = ''.join(char_list)\n",
    "\n",
    "print(\"Reversed string:\", reversed_string)\n"
   ]
  },
  {
   "cell_type": "code",
   "execution_count": 8,
   "metadata": {},
   "outputs": [
    {
     "name": "stdout",
     "output_type": "stream",
     "text": [
      "8,2,15\n"
     ]
    }
   ],
   "source": [
    "a =int(input(\"enter a number A:\"))\n",
    "b = int(input(\"enter a number B:\"))\n",
    "print(f\"{a+b},{a-b},{a*b}\")"
   ]
  }
 ],
 "metadata": {
  "kernelspec": {
   "display_name": "base",
   "language": "python",
   "name": "python3"
  },
  "language_info": {
   "codemirror_mode": {
    "name": "ipython",
    "version": 3
   },
   "file_extension": ".py",
   "mimetype": "text/x-python",
   "name": "python",
   "nbconvert_exporter": "python",
   "pygments_lexer": "ipython3",
   "version": "3.10.10"
  },
  "orig_nbformat": 4
 },
 "nbformat": 4,
 "nbformat_minor": 2
}
