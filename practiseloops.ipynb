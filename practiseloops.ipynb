{
 "cells": [
  {
   "cell_type": "markdown",
   "metadata": {},
   "source": [
    "Write a program to print numbers from 1 to 10 using a for loop.\n"
   ]
  },
  {
   "cell_type": "code",
   "execution_count": null,
   "metadata": {},
   "outputs": [
    {
     "name": "stdout",
     "output_type": "stream",
     "text": [
      "12345678910"
     ]
    }
   ],
   "source": [
    "x =[1,2,3,4,5,6,7,8,9,10]\n",
    "for i in x:\n",
    "    print(i,end='')"
   ]
  },
  {
   "cell_type": "code",
   "execution_count": 3,
   "metadata": {},
   "outputs": [
    {
     "name": "stdout",
     "output_type": "stream",
     "text": [
      "134568543245"
     ]
    }
   ],
   "source": [
    "nums = [1,3,4,5,6,8,5,43,24,5]\n",
    "for i in nums:\n",
    "    print(i,end='')"
   ]
  },
  {
   "cell_type": "markdown",
   "metadata": {},
   "source": [
    "Write a program to print the multiplication table of a given number using a while loop.\n"
   ]
  },
  {
   "cell_type": "code",
   "execution_count": 11,
   "metadata": {},
   "outputs": [
    {
     "name": "stdout",
     "output_type": "stream",
     "text": [
      "2 x 1 = 2\n",
      "2 x 2 = 4\n",
      "2 x 3 = 6\n",
      "2 x 4 = 8\n",
      "2 x 5 = 10\n",
      "2 x 6 = 12\n",
      "2 x 7 = 14\n",
      "2 x 8 = 16\n",
      "2 x 9 = 18\n",
      "2 x 10 = 20\n"
     ]
    }
   ],
   "source": [
    "def print_multiplication_table(number):\n",
    "    i =1 \n",
    "    while i<=10:\n",
    "        result=number * i\n",
    "        print(f\"{number} x {i} = {result}\")\n",
    "        i+=1\n",
    "try:\n",
    "    num=int(input(\"enter a number\"))\n",
    "    print_multiplication_table(num)\n",
    "except ValueError:\n",
    "    print(\"invalid input\")"
   ]
  },
  {
   "cell_type": "markdown",
   "metadata": {},
   "source": [
    "Write a program to find the sum of all even numbers between 1 and 100 using a for loop."
   ]
  },
  {
   "cell_type": "code",
   "execution_count": 15,
   "metadata": {},
   "outputs": [
    {
     "name": "stdout",
     "output_type": "stream",
     "text": [
      "the sum of even umber 1 to 100 is =2550\n"
     ]
    }
   ],
   "source": [
    "sum_even = 0\n",
    "for num in range(1,101):\n",
    "    if num % 2==0:\n",
    "        sum_even += num\n",
    "print(f\"the sum of even umber 1 to 100 is ={sum_even}\")        "
   ]
  },
  {
   "cell_type": "markdown",
   "metadata": {},
   "source": [
    "Write a program to check if a given number is prime or not using a while loop."
   ]
  },
  {
   "cell_type": "code",
   "execution_count": 9,
   "metadata": {},
   "outputs": [
    {
     "name": "stdout",
     "output_type": "stream",
     "text": [
      "1 is not a prime number\n"
     ]
    }
   ],
   "source": [
    "num = int(input(\"Enter a number: \"))\n",
    "\n",
    "if num <= 1:\n",
    "    print(num, \"is not a prime number\")\n",
    "elif num == 2:\n",
    "    print(num, \"is a prime number\")\n",
    "else:\n",
    "    for n in range(2, int(num ** 0.5) + 1):\n",
    "        if num % n == 0:\n",
    "            print(num, \"is not a prime number\")\n",
    "            break\n",
    "    else:\n",
    "        print(num, \"is a prime number\")\n"
   ]
  },
  {
   "cell_type": "markdown",
   "metadata": {},
   "source": [
    "Write a program to calculate the factorial of a number using a for loop.\n"
   ]
  },
  {
   "cell_type": "code",
   "execution_count": 5,
   "metadata": {},
   "outputs": [
    {
     "name": "stdout",
     "output_type": "stream",
     "text": [
      "factorial of 4 is 24\n"
     ]
    }
   ],
   "source": [
    "num = int(input(\"enter a number:\"))\n",
    "if num < 0:\n",
    "    print(\"factorial is not defined for the negative numbers:\")\n",
    "elif num ==0:\n",
    "    print(\"factorial of 0 is 1:\")\n",
    "else:\n",
    "    factorial=1\n",
    "    for i in range(1,num+1):\n",
    "      factorial *= i\n",
    "    print(f\"factorial of {num} is {factorial}\")    "
   ]
  },
  {
   "cell_type": "markdown",
   "metadata": {},
   "source": [
    "Write a program to print the Fibonacci series up to a given limit using a while loop."
   ]
  },
  {
   "cell_type": "code",
   "execution_count": 13,
   "metadata": {},
   "outputs": [
    {
     "name": "stdout",
     "output_type": "stream",
     "text": [
      "Fibonacci series:\n",
      "0 1 1 2 3 5 8 \n"
     ]
    }
   ],
   "source": [
    "# Input from the user\n",
    "limit = int(input(\"Enter the limit for Fibonacci series: \"))\n",
    "\n",
    "# Initialize the first two terms of the series\n",
    "a, b = 0, 1\n",
    "\n",
    "# Print the first two terms\n",
    "print(\"Fibonacci series:\")\n",
    "print(a, end=\" \")\n",
    "print(b, end=\" \")\n",
    "\n",
    "# Generate the Fibonacci series using a while loop\n",
    "while a + b <= limit:\n",
    "    c = a + b\n",
    "    print(c, end=\" \")\n",
    "    a = b\n",
    "    b = c\n",
    "\n",
    "print()  # Print a newline after the series is printed"
   ]
  }
 ],
 "metadata": {
  "kernelspec": {
   "display_name": "base",
   "language": "python",
   "name": "python3"
  },
  "language_info": {
   "codemirror_mode": {
    "name": "ipython",
    "version": 3
   },
   "file_extension": ".py",
   "mimetype": "text/x-python",
   "name": "python",
   "nbconvert_exporter": "python",
   "pygments_lexer": "ipython3",
   "version": "3.10.10"
  },
  "orig_nbformat": 4
 },
 "nbformat": 4,
 "nbformat_minor": 2
}
