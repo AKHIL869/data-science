{
 "cells": [
  {
   "cell_type": "markdown",
   "metadata": {},
   "source": [
    "### list\n",
    "- indexed, ordered , mutable , allows duplicate elements , heterogeneous , '[ ]' , 'list( )' \n",
    "#### tuple \n",
    "- indexed , ordered , **imutable** , allows duplicate elements , hetrerogeneous , '( )' , 'tuple( )'\n",
    "#### set \n",
    "- **unordered** , mutable , **does not alllow duplicate elements** , heterogeneous , '{ }' , 'set( )'\n",
    "#### dictionary\n",
    "- **unordered** , mutable , **does not allow duplicate keys** , heterogeneous , key:value pairs , '{ }' , 'dict( )'"
   ]
  },
  {
   "cell_type": "markdown",
   "metadata": {},
   "source": [
    "#### list\n",
    "- creating\n",
    "- indexing and slicing\n",
    "- methods (11 methods)\n",
    "- lists comprehension"
   ]
  },
  {
   "cell_type": "code",
   "execution_count": 1,
   "metadata": {},
   "outputs": [],
   "source": [
    "x = [1,2,3,4,5]\n",
    "names = ['john', 'paul', 'george', 'ringo']\n",
    "mix = [1, 'john', 3.14,True]\n",
    "nested = [[1,2,3],[4,5,6],[7,8,9]]\n",
    "mt =[]\n",
    "cloned = [1,2,3] * 5 #repeat list 5 times \n",
    "words = 'this is sparta' .split()\n",
    "chars = list('alexender')"
   ]
  },
  {
   "cell_type": "code",
   "execution_count": 3,
   "metadata": {},
   "outputs": [
    {
     "name": "stdout",
     "output_type": "stream",
     "text": [
      "100\n",
      "5\n"
     ]
    }
   ],
   "source": [
    "print(x[0])\n",
    "print(x[-1])\n",
    "x[0] = 100 #updating value at index 0"
   ]
  },
  {
   "cell_type": "code",
   "execution_count": 7,
   "metadata": {},
   "outputs": [
    {
     "data": {
      "text/plain": [
       "['n', 'd', 'e', 'r']"
      ]
     },
     "execution_count": 7,
     "metadata": {},
     "output_type": "execute_result"
    }
   ],
   "source": [
    "chars[5:]"
   ]
  },
  {
   "cell_type": "code",
   "execution_count": 9,
   "metadata": {},
   "outputs": [
    {
     "data": {
      "text/plain": [
       "['a', 'l', 'e', 'x', 'e']"
      ]
     },
     "execution_count": 9,
     "metadata": {},
     "output_type": "execute_result"
    }
   ],
   "source": [
    "chars[:5]"
   ]
  },
  {
   "cell_type": "code",
   "execution_count": 8,
   "metadata": {},
   "outputs": [
    {
     "data": {
      "text/plain": [
       "['a', 'l', 'e', 'x']"
      ]
     },
     "execution_count": 8,
     "metadata": {},
     "output_type": "execute_result"
    }
   ],
   "source": [
    "chars[:-5]"
   ]
  },
  {
   "cell_type": "code",
   "execution_count": 6,
   "metadata": {},
   "outputs": [
    {
     "data": {
      "text/plain": [
       "['r', 'e', 'd', 'n', 'e', 'x', 'e', 'l', 'a']"
      ]
     },
     "execution_count": 6,
     "metadata": {},
     "output_type": "execute_result"
    }
   ],
   "source": [
    "chars[::-1]"
   ]
  },
  {
   "cell_type": "markdown",
   "metadata": {},
   "source": [
    "###adding \n",
    " -append() - addds an eleemt to the end of the list\n",
    " -extend() - adds all elements of one list to another lists \n",
    " -insert() - adds an element at a specific index\n",
    "###removing  \n",
    " -remove() - \n",
    " -pop()\n",
    " -clear()\n",
    "###utility\n",
    " -count()\n",
    " -index()\n",
    " -sort()\n",
    " -reverse()\n",
    " -copy()\n"
   ]
  },
  {
   "cell_type": "code",
   "execution_count": 10,
   "metadata": {},
   "outputs": [
    {
     "name": "stdout",
     "output_type": "stream",
     "text": [
      "[100, 2, 3, 4, 5, 6, 3]\n"
     ]
    }
   ],
   "source": [
    "x.append(6)\n",
    "x.append(3)\n",
    "print(x)"
   ]
  },
  {
   "cell_type": "code",
   "execution_count": 11,
   "metadata": {},
   "outputs": [
    {
     "name": "stdout",
     "output_type": "stream",
     "text": [
      "[100, 2, 3, 4, 5, 6, 3, 11, 12, 13]\n"
     ]
    }
   ],
   "source": [
    "a = [11,12,13]\n",
    "x.extend(a)\n",
    "print(x)"
   ]
  },
  {
   "cell_type": "code",
   "execution_count": 12,
   "metadata": {},
   "outputs": [
    {
     "name": "stdout",
     "output_type": "stream",
     "text": [
      "[100, 2, 3, 4, 5, 100, 500, 6, 3, 11, 12, 13]\n"
     ]
    }
   ],
   "source": [
    "x.insert(5, 100)\n",
    "x.insert(6, 500)\n",
    "print(x)"
   ]
  },
  {
   "cell_type": "markdown",
   "metadata": {},
   "source": [
    "WRITE A PROGRAM TO TAKE 10 VALUES FROM USERS AND FILL IN THE LIST"
   ]
  },
  {
   "cell_type": "code",
   "execution_count": 14,
   "metadata": {},
   "outputs": [
    {
     "name": "stdout",
     "output_type": "stream",
     "text": [
      "['1', '2', '3', '4', '5', '6', '7', '8', '9', '11']\n"
     ]
    }
   ],
   "source": [
    "udata = []\n",
    "for i in range(0,10):\n",
    "    x = input ('enter 10 values ')\n",
    "    udata.append(x)\n",
    "print(udata)"
   ]
  },
  {
   "cell_type": "code",
   "execution_count": 15,
   "metadata": {},
   "outputs": [
    {
     "name": "stdout",
     "output_type": "stream",
     "text": [
      "['1', '2', '3', '4', '5', '6', '7', '8', '9', '11']\n"
     ]
    }
   ],
   "source": [
    "if 'Five' in udata:\n",
    "    udata.remove('Five')\n",
    "print(udata)    "
   ]
  },
  {
   "cell_type": "code",
   "execution_count": 16,
   "metadata": {},
   "outputs": [
    {
     "name": "stdout",
     "output_type": "stream",
     "text": [
      "nine not found\n"
     ]
    }
   ],
   "source": [
    "udata.remove('nine') if 'nine' in udata else print('nine not found')"
   ]
  },
  {
   "cell_type": "code",
   "execution_count": 18,
   "metadata": {},
   "outputs": [
    {
     "name": "stdout",
     "output_type": "stream",
     "text": [
      "5\n",
      "3\n"
     ]
    }
   ],
   "source": [
    "x = [1,2,3,4,5]\n",
    "print(x.pop())\n",
    "print(x.pop(2))"
   ]
  },
  {
   "cell_type": "code",
   "execution_count": 19,
   "metadata": {},
   "outputs": [
    {
     "name": "stdout",
     "output_type": "stream",
     "text": [
      "[]\n"
     ]
    }
   ],
   "source": [
    "udata.clear()\n",
    "print(udata)"
   ]
  },
  {
   "cell_type": "code",
   "execution_count": 20,
   "metadata": {},
   "outputs": [],
   "source": [
    "del x"
   ]
  },
  {
   "cell_type": "code",
   "execution_count": 21,
   "metadata": {},
   "outputs": [
    {
     "data": {
      "text/plain": [
       "6"
      ]
     },
     "execution_count": 21,
     "metadata": {},
     "output_type": "execute_result"
    }
   ],
   "source": [
    "a = [1,2,3,1,1,2,2,2,2,1,1,1]\n",
    "a.count(1)"
   ]
  },
  {
   "cell_type": "code",
   "execution_count": 22,
   "metadata": {},
   "outputs": [
    {
     "name": "stdout",
     "output_type": "stream",
     "text": [
      "['george', 'john', 'paul', 'ringo']\n"
     ]
    }
   ],
   "source": [
    "names.sort()\n",
    "print(names)"
   ]
  },
  {
   "cell_type": "code",
   "execution_count": null,
   "metadata": {},
   "outputs": [],
   "source": [
    "#write a program to create a fibonacci series \n",
    "# of 10 numbers and store it in a list\n",
    "# [0,1,1,2,3,5,8,13,21,34]"
   ]
  },
  {
   "cell_type": "code",
   "execution_count": 26,
   "metadata": {},
   "outputs": [
    {
     "name": "stdout",
     "output_type": "stream",
     "text": [
      "[0, 1, 1, 2, 3, 5, 8, 13, 21, 34]\n"
     ]
    }
   ],
   "source": [
    "\n",
    "a = 0\n",
    "b = 1\n",
    "list = []\n",
    "list.append(a)\n",
    "list.append(b)\n",
    "for i in range(0,8):\n",
    " c =a+b\n",
    " list.append(c)\n",
    " a = b\n",
    " b = c\n",
    "print(list)"
   ]
  },
  {
   "cell_type": "code",
   "execution_count": 30,
   "metadata": {},
   "outputs": [
    {
     "name": "stdout",
     "output_type": "stream",
     "text": [
      "[0, 1, 1, 2, 3, 5, 8, 13, 21, 34, 55, 89]\n"
     ]
    }
   ],
   "source": [
    "x = [0,1]\n",
    "for i in range (10):\n",
    "    x.append( x[-2] + x[-1])\n",
    "print(x)"
   ]
  },
  {
   "cell_type": "code",
   "execution_count": 2,
   "metadata": {},
   "outputs": [
    {
     "name": "stdout",
     "output_type": "stream",
     "text": [
      "[1, 2, 3, 4, 5]\n",
      "[1, 4, 9, 16, 25]\n"
     ]
    }
   ],
   "source": [
    "x = [1,2,3,4,5]\n",
    "x2 = []\n",
    "for i in x:\n",
    "    s = i**2\n",
    "    x2.append(s)\n",
    "print(x)\n",
    "print(x2)    "
   ]
  },
  {
   "cell_type": "code",
   "execution_count": 5,
   "metadata": {},
   "outputs": [
    {
     "name": "stdout",
     "output_type": "stream",
     "text": [
      "['bruce', 'clark', 'peter']\n"
     ]
    }
   ],
   "source": [
    "names={'peter parker','bruce wayne','clark kent'}\n",
    "fnames = []\n",
    "for nm in names:\n",
    "    fnames.append(nm.split()[0])\n",
    "print(fnames)"
   ]
  },
  {
   "cell_type": "markdown",
   "metadata": {},
   "source": [
    "wap a list of ten number make a new list even numbers check in x list and fill new list with even numbers"
   ]
  },
  {
   "cell_type": "code",
   "execution_count": 8,
   "metadata": {},
   "outputs": [
    {
     "name": "stdout",
     "output_type": "stream",
     "text": [
      "[2, 4, 6, 8, 10]\n"
     ]
    }
   ],
   "source": [
    "x = [1,2,3,4,5,6,7,8,9,10]\n",
    "x2 = []\n",
    "for i in x:\n",
    "    if i%2==0:\n",
    "        x2.append(i)\n",
    "print(x2)        "
   ]
  },
  {
   "cell_type": "markdown",
   "metadata": {},
   "source": [
    "newlist = [expression for item in iterable if condition == true]"
   ]
  },
  {
   "cell_type": "code",
   "execution_count": 9,
   "metadata": {},
   "outputs": [
    {
     "name": "stdout",
     "output_type": "stream",
     "text": [
      "[1, 4, 9, 16, 25, 36, 49, 64, 81, 100]\n"
     ]
    }
   ],
   "source": [
    "x2 = [i **2 for i in x]\n",
    "print(x2)"
   ]
  },
  {
   "cell_type": "code",
   "execution_count": 10,
   "metadata": {},
   "outputs": [
    {
     "name": "stdout",
     "output_type": "stream",
     "text": [
      "['wayne', 'kent', 'parker']\n"
     ]
    }
   ],
   "source": [
    "lnames = [nm.split()[-1] for nm in names ]\n",
    "print(lnames)"
   ]
  },
  {
   "cell_type": "code",
   "execution_count": 13,
   "metadata": {},
   "outputs": [
    {
     "name": "stdout",
     "output_type": "stream",
     "text": [
      "[2, 4, 6, 8, 10, 12]\n"
     ]
    }
   ],
   "source": [
    "x =[1,2,3,4,5,6,8,9,10,12]\n",
    "xevens = [i for i in x if i % 2 ==0]\n",
    "print(xevens)"
   ]
  },
  {
   "cell_type": "code",
   "execution_count": 1,
   "metadata": {},
   "outputs": [
    {
     "name": "stdout",
     "output_type": "stream",
     "text": [
      "[1, 2, 3, 4, 5, 6]\n"
     ]
    }
   ],
   "source": [
    "#filter \n",
    "x = ['1','2','3','4','','5','','6']\n",
    "x_clean =[int(i)for i in x if i.isnumeric()]\n",
    "print(x_clean)"
   ]
  },
  {
   "cell_type": "code",
   "execution_count": 12,
   "metadata": {},
   "outputs": [
    {
     "name": "stdout",
     "output_type": "stream",
     "text": [
      "['1.jpg', '2.jpg', '5.jpg']\n",
      "['3.png', '10.png']\n"
     ]
    }
   ],
   "source": [
    "files = ['1.jpg','3.png','2.jpg','4.tif','5.jpg','10.png']\n",
    "jpg_files = [file for file in files if file.endswith('.jpg')]\n",
    "png_files = [file for file in files if file.endswith('.png')]\n",
    "print(jpg_files)\n",
    "print(png_files)"
   ]
  },
  {
   "cell_type": "code",
   "execution_count": 13,
   "metadata": {},
   "outputs": [
    {
     "name": "stdout",
     "output_type": "stream",
     "text": [
      "['1.jpg', '2.jpg', '5.jpg']\n"
     ]
    }
   ],
   "source": [
    "jpg_files =[]\n",
    "for file in files:\n",
    "    if file.endswith('jpg'):\n",
    "        jpg_files.append(file)\n",
    "print(jpg_files)"
   ]
  },
  {
   "cell_type": "code",
   "execution_count": 15,
   "metadata": {},
   "outputs": [
    {
     "name": "stdout",
     "output_type": "stream",
     "text": [
      "[1, 27, 125, 1, 27, 125, 1, 27, 27, 125, 343, 27, 27, 343, 27, 1, 27, 125]\n"
     ]
    }
   ],
   "source": [
    "y = [1,2,3,4,5,1,2,3,4,5,6,1,2,2,3,3,4,4,5,7,3,3,6,6,7,3,2,1,3,5]\n",
    "# take all odd number -> get there cube->put it in list\n",
    "xodds = [i**3 for i in y if i%2!=0]\n",
    "print(xodds)"
   ]
  },
  {
   "cell_type": "code",
   "execution_count": 19,
   "metadata": {},
   "outputs": [
    {
     "name": "stdout",
     "output_type": "stream",
     "text": [
      "{'English': 56, 'Hindi': 90, 'Maths': 34, 'chemistry': 34, 'evs': 56}\n"
     ]
    }
   ],
   "source": [
    "raju = [56,90,34,34,56]\n",
    "raju_dict = {\n",
    "    'English' : 56,\n",
    "    'Hindi' : 90,\n",
    "    'Maths' : 34,\n",
    "    'chemistry': 34,\n",
    "    'evs': 56\n",
    "}\n",
    "print(raju_dict)"
   ]
  },
  {
   "cell_type": "code",
   "execution_count": 20,
   "metadata": {},
   "outputs": [],
   "source": [
    "company ={\n",
    "    'emp001':{\n",
    "        'name': \"Amar Kumar\",\n",
    "        'designation': 'Assistant III',\n",
    "        'salary': 32000,\n",
    "    },\n",
    "    'emp002':{\n",
    "        'name': 'Ranu Singh',\n",
    "        'designation ': 'staff officer',\n",
    "        'salary': 890000\n",
    "    },\n",
    "    'total_temp': 2,\n",
    "    'department':'accounts',\n",
    "    'vacancy': ['clerk','manager','assistant I']\n",
    "}"
   ]
  },
  {
   "cell_type": "code",
   "execution_count": 23,
   "metadata": {},
   "outputs": [
    {
     "name": "stdout",
     "output_type": "stream",
     "text": [
      "{'emp001': {'name': 'Amar Kumar', 'designation': 'Assistant III', 'salary': 32000}, 'emp002': {'name': 'Ranu Singh', 'designation ': 'staff officer', 'salary': 890000}, 'total_temp': 2, 'department': 'accounts', 'vacancy': ['clerk', 'manager', 'assistant I'], 'name': 'acme inc.'}\n"
     ]
    }
   ],
   "source": [
    "company['name'] = 'acme inc.' #adding a key and a value to dict\n",
    "print(company)"
   ]
  },
  {
   "cell_type": "code",
   "execution_count": 27,
   "metadata": {},
   "outputs": [],
   "source": [
    "company ['total_emp'] = 3\n",
    "company['emp003'] = {\n",
    "    'name':'ajay verma',\n",
    "    'designation': 'clerk',\n",
    "    'slary':45000\n",
    "}"
   ]
  },
  {
   "cell_type": "code",
   "execution_count": 25,
   "metadata": {},
   "outputs": [
    {
     "data": {
      "text/plain": [
       "{'emp001': {'name': 'Amar Kumar',\n",
       "  'designation': 'Assistant III',\n",
       "  'salary': 32000},\n",
       " 'emp002': {'name': 'Ranu Singh',\n",
       "  'designation ': 'staff officer',\n",
       "  'salary': 890000},\n",
       " 'total_temp': 2,\n",
       " 'department': 'accounts',\n",
       " 'vacancy': ['clerk', 'manager', 'assistant I'],\n",
       " 'name': 'acme inc.',\n",
       " 'total_emp': 3,\n",
       " 'emp003': {'name': 'ajay verma', 'designation': 'clerk', 'slary': 45000}}"
      ]
     },
     "execution_count": 25,
     "metadata": {},
     "output_type": "execute_result"
    }
   ],
   "source": [
    "company"
   ]
  },
  {
   "cell_type": "code",
   "execution_count": 2,
   "metadata": {},
   "outputs": [
    {
     "ename": "NameError",
     "evalue": "name 'company' is not defined",
     "output_type": "error",
     "traceback": [
      "\u001b[1;31m---------------------------------------------------------------------------\u001b[0m",
      "\u001b[1;31mNameError\u001b[0m                                 Traceback (most recent call last)",
      "Cell \u001b[1;32mIn[2], line 2\u001b[0m\n\u001b[0;32m      1\u001b[0m \u001b[39m# company['emp004]\u001b[39;00m\n\u001b[1;32m----> 2\u001b[0m company\u001b[39m.\u001b[39mget(\u001b[39m'\u001b[39m\u001b[39mwebsite\u001b[39m\u001b[39m'\u001b[39m)\n",
      "\u001b[1;31mNameError\u001b[0m: name 'company' is not defined"
     ]
    }
   ],
   "source": [
    "# company['emp004]\n",
    "company.get('website')"
   ]
  },
  {
   "cell_type": "code",
   "execution_count": 1,
   "metadata": {},
   "outputs": [
    {
     "ename": "NameError",
     "evalue": "name 'company' is not defined",
     "output_type": "error",
     "traceback": [
      "\u001b[1;31m---------------------------------------------------------------------------\u001b[0m",
      "\u001b[1;31mNameError\u001b[0m                                 Traceback (most recent call last)",
      "Cell \u001b[1;32mIn[1], line 1\u001b[0m\n\u001b[1;32m----> 1\u001b[0m \u001b[39mif\u001b[39;00m \u001b[39m'\u001b[39m\u001b[39mwebsite\u001b[39m\u001b[39m'\u001b[39m \u001b[39min\u001b[39;00m company:\n\u001b[0;32m      2\u001b[0m     \u001b[39mprint\u001b[39m(\u001b[39m'\u001b[39m\u001b[39mwebsite exists in dict\u001b[39m\u001b[39m'\u001b[39m)\n",
      "\u001b[1;31mNameError\u001b[0m: name 'company' is not defined"
     ]
    }
   ],
   "source": [
    "if 'website' in company:\n",
    "    print('website exists in dict')"
   ]
  },
  {
   "cell_type": "code",
   "execution_count": 33,
   "metadata": {},
   "outputs": [
    {
     "name": "stdout",
     "output_type": "stream",
     "text": [
      "dict_keys(['emp001', 'emp002', 'total_temp', 'department', 'vacancy', 'name', 'total_emp', 'emp003'])\n",
      "dict_values([{'name': 'Amar Kumar', 'designation': 'Assistant III', 'salary': 32000}, {'name': 'Ranu Singh', 'designation ': 'staff officer', 'salary': 890000}, 2, 'accounts', ['clerk', 'manager', 'assistant I'], 'acme inc.', 3, {'name': 'ajay verma', 'designation': 'clerk', 'slary': 45000}])\n",
      "dict_items([('emp001', {'name': 'Amar Kumar', 'designation': 'Assistant III', 'salary': 32000}), ('emp002', {'name': 'Ranu Singh', 'designation ': 'staff officer', 'salary': 890000}), ('total_temp', 2), ('department', 'accounts'), ('vacancy', ['clerk', 'manager', 'assistant I']), ('name', 'acme inc.'), ('total_emp', 3), ('emp003', {'name': 'ajay verma', 'designation': 'clerk', 'slary': 45000})])\n"
     ]
    }
   ],
   "source": [
    "print(company.keys())\n",
    "print(company.values())\n",
    "print(company.items())"
   ]
  },
  {
   "cell_type": "code",
   "execution_count": 36,
   "metadata": {},
   "outputs": [
    {
     "name": "stdout",
     "output_type": "stream",
     "text": [
      "English\n",
      "Hindi\n",
      "Maths\n",
      "chemistry\n",
      "evs\n"
     ]
    }
   ],
   "source": [
    "for i in raju_dict:\n",
    "  print(i)"
   ]
  },
  {
   "cell_type": "code",
   "execution_count": 37,
   "metadata": {},
   "outputs": [
    {
     "name": "stdout",
     "output_type": "stream",
     "text": [
      "emp001\n",
      "emp002\n",
      "total_temp\n",
      "department\n",
      "vacancy\n",
      "name\n",
      "total_emp\n",
      "emp003\n"
     ]
    }
   ],
   "source": [
    "for i in company:\n",
    "    print(i)"
   ]
  },
  {
   "cell_type": "code",
   "execution_count": 40,
   "metadata": {},
   "outputs": [
    {
     "name": "stdout",
     "output_type": "stream",
     "text": [
      "{'name': 'Amar Kumar', 'designation': 'Assistant III', 'salary': 32000}{'name': 'Ranu Singh', 'designation ': 'staff officer', 'salary': 890000}2accounts['clerk', 'manager', 'assistant I']acme inc.3{'name': 'ajay verma', 'designation': 'clerk', 'slary': 45000}"
     ]
    }
   ],
   "source": [
    "for i in company:\n",
    "    print(company[i],end='')"
   ]
  },
  {
   "cell_type": "code",
   "execution_count": 43,
   "metadata": {},
   "outputs": [
    {
     "name": "stdout",
     "output_type": "stream",
     "text": [
      "emp001 {'name': 'Amar Kumar', 'designation': 'Assistant III', 'salary': 32000}\n",
      "emp002 {'name': 'Ranu Singh', 'designation ': 'staff officer', 'salary': 890000}\n",
      "total_temp 2\n",
      "department accounts\n",
      "vacancy ['clerk', 'manager', 'assistant I']\n",
      "name acme inc.\n",
      "total_emp 3\n",
      "emp003 {'name': 'ajay verma', 'designation': 'clerk', 'slary': 45000}\n"
     ]
    }
   ],
   "source": [
    "for k,v in company.items():\n",
    "    print(k,v)"
   ]
  },
  {
   "cell_type": "code",
   "execution_count": 44,
   "metadata": {},
   "outputs": [
    {
     "name": "stdout",
     "output_type": "stream",
     "text": [
      "emp001\n",
      "--> name Amar Kumar\n",
      "--> designation Assistant III\n",
      "--> salary 32000\n",
      "emp002\n",
      "--> name Ranu Singh\n",
      "--> designation  staff officer\n",
      "--> salary 890000\n",
      "total_temp 2\n",
      "department accounts\n",
      "vacancy ['clerk', 'manager', 'assistant I']\n",
      "name acme inc.\n",
      "total_emp 3\n",
      "emp003\n",
      "--> name ajay verma\n",
      "--> designation clerk\n",
      "--> slary 45000\n"
     ]
    }
   ],
   "source": [
    "for k,v in company.items():\n",
    "    if isinstance(v,dict):\n",
    "        print(k)\n",
    "        for key, value in v.items():\n",
    "            print(\"-->\",key,value)\n",
    "    else:\n",
    "        print(k,v)\n",
    "        \n",
    "       "
   ]
  },
  {
   "cell_type": "markdown",
   "metadata": {},
   "source": [
    "wap to create dict.  which takes user inputs and stores the name of item and its price "
   ]
  },
  {
   "cell_type": "code",
   "execution_count": 46,
   "metadata": {},
   "outputs": [
    {
     "ename": "TypeError",
     "evalue": "Kernel.raw_input() takes from 1 to 2 positional arguments but 3 were given",
     "output_type": "error",
     "traceback": [
      "\u001b[1;31m---------------------------------------------------------------------------\u001b[0m",
      "\u001b[1;31mTypeError\u001b[0m                                 Traceback (most recent call last)",
      "Cell \u001b[1;32mIn[46], line 3\u001b[0m\n\u001b[0;32m      1\u001b[0m \u001b[39mdict\u001b[39m \u001b[39m=\u001b[39m {}\n\u001b[0;32m      2\u001b[0m \u001b[39mwhile\u001b[39;00m \u001b[39mTrue\u001b[39;00m:\n\u001b[1;32m----> 3\u001b[0m     \u001b[39minput\u001b[39;49m(\u001b[39m\"\u001b[39;49m\u001b[39mitems\u001b[39;49m\u001b[39m\"\u001b[39;49m ,\u001b[39m\"\u001b[39;49m\u001b[39mprice\u001b[39;49m\u001b[39m\"\u001b[39;49m)\n\u001b[0;32m      4\u001b[0m     \u001b[39mprint\u001b[39m()\n",
      "\u001b[1;31mTypeError\u001b[0m: Kernel.raw_input() takes from 1 to 2 positional arguments but 3 were given"
     ]
    }
   ],
   "source": [
    "dict = {}\n",
    "while True:\n",
    "    input(\"items\")"
   ]
  }
 ],
 "metadata": {
  "kernelspec": {
   "display_name": "base",
   "language": "python",
   "name": "python3"
  },
  "language_info": {
   "codemirror_mode": {
    "name": "ipython",
    "version": 3
   },
   "file_extension": ".py",
   "mimetype": "text/x-python",
   "name": "python",
   "nbconvert_exporter": "python",
   "pygments_lexer": "ipython3",
   "version": "3.10.10"
  },
  "orig_nbformat": 4
 },
 "nbformat": 4,
 "nbformat_minor": 2
}
