{
 "cells": [
  {
   "cell_type": "markdown",
   "metadata": {},
   "source": [
    "Write python function which takes a variable number of arguments."
   ]
  },
  {
   "cell_type": "code",
   "execution_count": 1,
   "metadata": {},
   "outputs": [
    {
     "name": "stdout",
     "output_type": "stream",
     "text": [
      "1\n",
      "2\n",
      "3\n",
      "hello\n",
      "[4, 5]\n"
     ]
    }
   ],
   "source": [
    "def variable_args_function(*args):\n",
    "    for arg in args:\n",
    "        print(arg)\n",
    "\n",
    "# Example usage\n",
    "variable_args_function(1, 2, 3, \"hello\", [4, 5])\n"
   ]
  },
  {
   "cell_type": "markdown",
   "metadata": {},
   "source": [
    "which takes a sequence of numbers and check if all\n",
    "numbers are unique"
   ]
  },
  {
   "cell_type": "code",
   "execution_count": 2,
   "metadata": {},
   "outputs": [
    {
     "name": "stdout",
     "output_type": "stream",
     "text": [
      "True\n",
      "False\n"
     ]
    }
   ],
   "source": [
    "def are_all_numbers_unique(numbers):\n",
    "    if len(numbers) == len(set(numbers)):\n",
    "        return True\n",
    "    else:\n",
    "        return False\n",
    "\n",
    "# Example usage\n",
    "sequence_1 = [1, 2, 3, 4, 5]\n",
    "sequence_2 = [1, 2, 3, 2, 4]\n",
    "\n",
    "print(are_all_numbers_unique(sequence_1))  # Output: True\n",
    "print(are_all_numbers_unique(sequence_2))  # Output: False\n"
   ]
  },
  {
   "cell_type": "markdown",
   "metadata": {},
   "source": [
    "Write a program for counting the number of every character of a given text file"
   ]
  },
  {
   "cell_type": "code",
   "execution_count": 3,
   "metadata": {},
   "outputs": [
    {
     "name": "stdout",
     "output_type": "stream",
     "text": [
      "File not found.\n"
     ]
    }
   ],
   "source": [
    "def count_characters(file_path):\n",
    "    char_count = {}\n",
    "\n",
    "    try:\n",
    "        with open(file_path, 'r') as file:\n",
    "            text = file.read()\n",
    "            for char in text:\n",
    "                if char in char_count:\n",
    "                    char_count[char] += 1\n",
    "                else:\n",
    "                    char_count[char] = 1\n",
    "    except FileNotFoundError:\n",
    "        print(\"File not found.\")\n",
    "\n",
    "    return char_count\n",
    "\n",
    "file_path = 'your_text_file.txt'  # Replace with the actual path to your text file\n",
    "character_counts = count_characters(file_path)\n",
    "\n",
    "for char, count in character_counts.items():\n",
    "    print(f\"'{char}': {count}\")\n"
   ]
  },
  {
   "cell_type": "markdown",
   "metadata": {},
   "source": [
    "Write a program to check and return the pairs of a given array A whose sum\n",
    "value is equal to a target value N."
   ]
  },
  {
   "cell_type": "code",
   "execution_count": 4,
   "metadata": {},
   "outputs": [
    {
     "name": "stdout",
     "output_type": "stream",
     "text": [
      "Pairs with sum 9:\n",
      "(5, 4)\n",
      "(7, 2)\n",
      "(8, 1)\n"
     ]
    }
   ],
   "source": [
    "def find_pairs_with_sum(arr, target):\n",
    "    pairs = []\n",
    "    seen_numbers = set()\n",
    "\n",
    "    for num in arr:\n",
    "        complement = target - num\n",
    "        if complement in seen_numbers:\n",
    "            pairs.append((num, complement))\n",
    "        seen_numbers.add(num)\n",
    "\n",
    "    return pairs\n",
    "\n",
    "# Example usage\n",
    "array = [2, 4, 3, 1, 5, 7, 8]\n",
    "target_sum = 9\n",
    "result = find_pairs_with_sum(array, target_sum)\n",
    "\n",
    "print(f\"Pairs with sum {target_sum}:\")\n",
    "for pair in result:\n",
    "    print(pair)\n"
   ]
  },
  {
   "cell_type": "code",
   "execution_count": 7,
   "metadata": {},
   "outputs": [
    {
     "name": "stdout",
     "output_type": "stream",
     "text": [
      "wiered\n",
      "wiered\n",
      "wiered\n",
      "wiered\n",
      "wiered\n",
      "wiered\n",
      "wiered\n",
      "wiered\n",
      "wiered\n",
      "wiered\n",
      "wiered\n",
      "wiered\n",
      "not wiered\n",
      "not wiered\n",
      "weired\n",
      "weired\n",
      "weired\n",
      "weired\n",
      "weired\n",
      "weired\n",
      "weired\n",
      "weired\n",
      "not weired\n",
      "not weired\n"
     ]
    }
   ],
   "source": [
    "n = int(input(\"enter a number\"))\n",
    "odd_sum=0\n",
    "for i in range(1,n+1):\n",
    "    if i%2  !=0:\n",
    "        print(\"wiered\")\n",
    "else:\n",
    "    even_sum=0\n",
    "    for i in range(2,6):\n",
    "        if i%2 ==0:\n",
    "            print(\"not wiered\")\n",
    "    for i in range(6,21):\n",
    "        if i%2==0:\n",
    "            print(\"weired\")\n",
    "    for i in range(20,n+1):\n",
    "        if i%2==0:\n",
    "            print(\"not weired\")        \n",
    "         \n",
    "\n",
    "        "
   ]
  },
  {
   "cell_type": "code",
   "execution_count": 16,
   "metadata": {},
   "outputs": [
    {
     "name": "stdout",
     "output_type": "stream",
     "text": [
      "weired\n"
     ]
    }
   ],
   "source": [
    "n = int(input().strip())\n",
    "if (n%2==0):\n",
    "    if (n in range(2,6)):\n",
    "        print(\"not weired\")\n",
    "    elif (n in range(6,20)):\n",
    "        print(\"weired\")\n",
    "    elif(n>20):\n",
    "        print(\"not weired\")\n",
    "else:\n",
    "    print(\"weired\") \n"
   ]
  },
  {
   "cell_type": "code",
   "execution_count": 17,
   "metadata": {},
   "outputs": [
    {
     "name": "stdout",
     "output_type": "stream",
     "text": [
      "Weird\n"
     ]
    }
   ],
   "source": [
    "n = int(input().strip())\n",
    "if (n % 2):\n",
    "    print(\"Weird\")\n",
    "else:\n",
    "    if 2 <= n <= 5:\n",
    "        print(\"Not Weird\")\n",
    "    elif 6 <= n <= 20:\n",
    "        print(\"Weird\")\n",
    "    else:\n",
    "        print(\"Not Weird\")"
   ]
  },
  {
   "cell_type": "code",
   "execution_count": null,
   "metadata": {},
   "outputs": [],
   "source": [
    "def is_leap(year):\n",
    "    if year%4 == 0:\n",
    "        leap =  True\n",
    "        if year%100 == 0:\n",
    "            leap = False\n",
    "            if year%400 == 0:\n",
    "                leap = True\n",
    "    else:\n",
    "        leap = False\n",
    "      \n",
    "    return leap\n",
    "\n",
    "year = int(input())"
   ]
  },
  {
   "cell_type": "code",
   "execution_count": null,
   "metadata": {},
   "outputs": [],
   "source": [
    "def is_leap(year):\n",
    "    if year%4==0:\n",
    "        leap=True\n",
    "        if year%100==0:\n",
    "            leap =False\n",
    "            if year%400==0:\n",
    "                leap=True\n",
    "    else:            \n",
    "        leap =False\n",
    "    return leap\n",
    "\n",
    "year= int(input())    \n",
    "\n"
   ]
  },
  {
   "cell_type": "code",
   "execution_count": 22,
   "metadata": {},
   "outputs": [
    {
     "name": "stdout",
     "output_type": "stream",
     "text": [
      "1234"
     ]
    }
   ],
   "source": [
    "n=int(input(\"\"))\n",
    "for i in range(n):\n",
    "    print(i + 1, end=\"\")"
   ]
  },
  {
   "cell_type": "code",
   "execution_count": 1,
   "metadata": {},
   "outputs": [
    {
     "name": "stdout",
     "output_type": "stream",
     "text": [
      "list of the append sequence  [1, 2, 3, 4, 5, 6, 7]\n"
     ]
    }
   ],
   "source": [
    "num =[1,2,3,4,5,6]\n",
    "list =[]\n",
    "num.append(7)\n",
    "print(\"list of the append sequence \",num)"
   ]
  }
 ],
 "metadata": {
  "kernelspec": {
   "display_name": "base",
   "language": "python",
   "name": "python3"
  },
  "language_info": {
   "codemirror_mode": {
    "name": "ipython",
    "version": 3
   },
   "file_extension": ".py",
   "mimetype": "text/x-python",
   "name": "python",
   "nbconvert_exporter": "python",
   "pygments_lexer": "ipython3",
   "version": "3.10.10"
  },
  "orig_nbformat": 4
 },
 "nbformat": 4,
 "nbformat_minor": 2
}
