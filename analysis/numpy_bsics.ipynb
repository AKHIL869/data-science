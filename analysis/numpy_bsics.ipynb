{
 "cells": [
  {
   "cell_type": "code",
   "execution_count": 1,
   "metadata": {},
   "outputs": [],
   "source": [
    "import numpy as np"
   ]
  },
  {
   "cell_type": "code",
   "execution_count": 2,
   "metadata": {},
   "outputs": [
    {
     "name": "stdout",
     "output_type": "stream",
     "text": [
      "[1 2 3 4]\n",
      "<class 'numpy.ndarray'>\n"
     ]
    }
   ],
   "source": [
    "n1=np.array([1,2,3,4])\n",
    "print(n1)\n",
    "print(type(n1))"
   ]
  },
  {
   "cell_type": "code",
   "execution_count": 3,
   "metadata": {},
   "outputs": [
    {
     "data": {
      "text/plain": [
       "array([1, 2, 3, 4])"
      ]
     },
     "execution_count": 3,
     "metadata": {},
     "output_type": "execute_result"
    }
   ],
   "source": [
    "n1"
   ]
  },
  {
   "cell_type": "code",
   "execution_count": 4,
   "metadata": {},
   "outputs": [
    {
     "data": {
      "text/plain": [
       "47"
      ]
     },
     "execution_count": 4,
     "metadata": {},
     "output_type": "execute_result"
    }
   ],
   "source": [
    "x=[]\n",
    "len(dir(x))"
   ]
  },
  {
   "cell_type": "code",
   "execution_count": 5,
   "metadata": {},
   "outputs": [
    {
     "data": {
      "text/plain": [
       "165"
      ]
     },
     "execution_count": 5,
     "metadata": {},
     "output_type": "execute_result"
    }
   ],
   "source": [
    "len(dir(n1))"
   ]
  },
  {
   "cell_type": "code",
   "execution_count": 6,
   "metadata": {},
   "outputs": [
    {
     "data": {
      "text/plain": [
       "(4,)"
      ]
     },
     "execution_count": 6,
     "metadata": {},
     "output_type": "execute_result"
    }
   ],
   "source": [
    "n1.shape # tells we have 4 values separated by commas."
   ]
  },
  {
   "cell_type": "code",
   "execution_count": 7,
   "metadata": {},
   "outputs": [
    {
     "name": "stdout",
     "output_type": "stream",
     "text": [
      "[[1 2 3]\n",
      " [2 3 5]]\n",
      "(2, 3)\n"
     ]
    }
   ],
   "source": [
    "n2=np.array([[1,2,3],[2,3,5]])\n",
    "print(n2)\n",
    "print(n2.shape)"
   ]
  },
  {
   "cell_type": "markdown",
   "metadata": {},
   "source": [
    "Creating matrix:-\n",
    "\n",
    "arange\n",
    "-linspace\n",
    "-random.rand\n",
    "-random.randn\n",
    "-random.randint\n",
    "-eye\n",
    "-ones\n",
    "-zeros"
   ]
  },
  {
   "cell_type": "code",
   "execution_count": 8,
   "metadata": {},
   "outputs": [
    {
     "data": {
      "text/plain": [
       "(100,)"
      ]
     },
     "execution_count": 8,
     "metadata": {},
     "output_type": "execute_result"
    }
   ],
   "source": [
    "x=np.arange(-10,10,.2)\n",
    "x.shape"
   ]
  },
  {
   "cell_type": "code",
   "execution_count": 9,
   "metadata": {},
   "outputs": [
    {
     "name": "stdout",
     "output_type": "stream",
     "text": [
      "[1.         1.44444444 1.88888889 2.33333333 2.77777778 3.22222222\n",
      " 3.66666667 4.11111111 4.55555556 5.        ]\n"
     ]
    },
    {
     "data": {
      "text/plain": [
       "(10,)"
      ]
     },
     "execution_count": 9,
     "metadata": {},
     "output_type": "execute_result"
    }
   ],
   "source": [
    "y=np.linspace(1,5,10)\n",
    "print(y)\n",
    "y.shape"
   ]
  },
  {
   "cell_type": "code",
   "execution_count": 10,
   "metadata": {},
   "outputs": [
    {
     "data": {
      "text/plain": [
       "array([[0.65449192, 0.80740796, 0.70684761],\n",
       "       [0.17046495, 0.91220863, 0.06470097],\n",
       "       [0.02499474, 0.70437663, 0.24798706]])"
      ]
     },
     "execution_count": 10,
     "metadata": {},
     "output_type": "execute_result"
    }
   ],
   "source": [
    "np.random.rand(3,3) # Gives random values between 0 and 1."
   ]
  },
  {
   "cell_type": "code",
   "execution_count": 11,
   "metadata": {},
   "outputs": [
    {
     "data": {
      "text/plain": [
       "array([ 0.49654257,  2.050194  , -0.6202102 , -0.33001044, -0.25230285,\n",
       "       -0.85904795, -0.88220268,  0.63445297,  0.25121027,  0.03234024])"
      ]
     },
     "execution_count": 11,
     "metadata": {},
     "output_type": "execute_result"
    }
   ],
   "source": [
    "np.random.randn(10)"
   ]
  },
  {
   "cell_type": "code",
   "execution_count": 12,
   "metadata": {},
   "outputs": [
    {
     "data": {
      "text/plain": [
       "array([[244, 431,  68, 317,  27],\n",
       "       [812, 167, 197, 613, 596],\n",
       "       [713, 352, 326, 433, 703],\n",
       "       [951, 852, 463, 843, 396],\n",
       "       [108, 607, 998, 371, 886]])"
      ]
     },
     "execution_count": 12,
     "metadata": {},
     "output_type": "execute_result"
    }
   ],
   "source": [
    "np.random.randint(1,1000,(5,5)) # 5*5 matrix with random numbers between 1 and 1000."
   ]
  },
  {
   "cell_type": "code",
   "execution_count": 13,
   "metadata": {},
   "outputs": [
    {
     "name": "stdout",
     "output_type": "stream",
     "text": [
      "[[3 8]\n",
      " [7 5]\n",
      " [8 2]]\n",
      "[[2 6]\n",
      " [4 3]\n",
      " [7 3]]\n"
     ]
    }
   ],
   "source": [
    "x=np.random.randint(1,10,(3,2))\n",
    "y=np.random.randint(1,10,(3,2))\n",
    "print(x)\n",
    "print(y)"
   ]
  },
  {
   "cell_type": "code",
   "execution_count": 14,
   "metadata": {},
   "outputs": [
    {
     "data": {
      "text/plain": [
       "array([[ 8, 13],\n",
       "       [12, 10],\n",
       "       [13,  7]])"
      ]
     },
     "execution_count": 14,
     "metadata": {},
     "output_type": "execute_result"
    }
   ],
   "source": [
    "x+5"
   ]
  },
  {
   "cell_type": "code",
   "execution_count": 15,
   "metadata": {},
   "outputs": [
    {
     "data": {
      "text/plain": [
       "array([[ 5, 14],\n",
       "       [11,  8],\n",
       "       [15,  5]])"
      ]
     },
     "execution_count": 15,
     "metadata": {},
     "output_type": "execute_result"
    }
   ],
   "source": [
    "x+y"
   ]
  },
  {
   "cell_type": "code",
   "execution_count": 16,
   "metadata": {},
   "outputs": [
    {
     "data": {
      "text/plain": [
       "array([[1.5       , 1.33333333],\n",
       "       [1.75      , 1.66666667],\n",
       "       [1.14285714, 0.66666667]])"
      ]
     },
     "execution_count": 16,
     "metadata": {},
     "output_type": "execute_result"
    }
   ],
   "source": [
    "x/y"
   ]
  },
  {
   "cell_type": "code",
   "execution_count": 17,
   "metadata": {},
   "outputs": [
    {
     "data": {
      "text/plain": [
       "array([[ 6, 48],\n",
       "       [28, 15],\n",
       "       [56,  6]])"
      ]
     },
     "execution_count": 17,
     "metadata": {},
     "output_type": "execute_result"
    }
   ],
   "source": [
    "x*y"
   ]
  },
  {
   "cell_type": "code",
   "execution_count": 18,
   "metadata": {},
   "outputs": [
    {
     "data": {
      "text/plain": [
       "array([[54, 36, 45],\n",
       "       [44, 43, 64],\n",
       "       [28, 38, 62]])"
      ]
     },
     "execution_count": 18,
     "metadata": {},
     "output_type": "execute_result"
    }
   ],
   "source": [
    "x.dot(y.T) # Transpose of y matrix."
   ]
  },
  {
   "cell_type": "code",
   "execution_count": 19,
   "metadata": {},
   "outputs": [
    {
     "data": {
      "text/plain": [
       "array([[ 0.14112001,  0.98935825],\n",
       "       [ 0.6569866 , -0.95892427],\n",
       "       [ 0.98935825,  0.90929743]])"
      ]
     },
     "execution_count": 19,
     "metadata": {},
     "output_type": "execute_result"
    }
   ],
   "source": [
    "np.sin(x)"
   ]
  },
  {
   "cell_type": "code",
   "execution_count": 20,
   "metadata": {},
   "outputs": [
    {
     "name": "stdout",
     "output_type": "stream",
     "text": [
      "33\n",
      "5.5\n",
      "2.362907813126304\n",
      "2\n",
      "8\n",
      "5.583333333333333\n"
     ]
    }
   ],
   "source": [
    "print(x.sum())\n",
    "print(x.mean())\n",
    "print(x.std())\n",
    "print(x.min())\n",
    "print(x.max())\n",
    "print(x.var())"
   ]
  },
  {
   "cell_type": "code",
   "execution_count": 21,
   "metadata": {},
   "outputs": [
    {
     "name": "stdout",
     "output_type": "stream",
     "text": [
      "(50,)\n",
      "[[0.         0.10204082 0.20408163 0.30612245 0.40816327]\n",
      " [0.51020408 0.6122449  0.71428571 0.81632653 0.91836735]\n",
      " [1.02040816 1.12244898 1.2244898  1.32653061 1.42857143]\n",
      " [1.53061224 1.63265306 1.73469388 1.83673469 1.93877551]\n",
      " [2.04081633 2.14285714 2.24489796 2.34693878 2.44897959]\n",
      " [2.55102041 2.65306122 2.75510204 2.85714286 2.95918367]\n",
      " [3.06122449 3.16326531 3.26530612 3.36734694 3.46938776]\n",
      " [3.57142857 3.67346939 3.7755102  3.87755102 3.97959184]\n",
      " [4.08163265 4.18367347 4.28571429 4.3877551  4.48979592]\n",
      " [4.59183673 4.69387755 4.79591837 4.89795918 5.        ]]\n",
      "(10, 5)\n"
     ]
    }
   ],
   "source": [
    "a=np.linspace(0,5,50)\n",
    "print(a.shape)\n",
    "a2=a.reshape(10,5)\n",
    "print(a2)\n",
    "print(a2.shape)"
   ]
  },
  {
   "cell_type": "code",
   "execution_count": 22,
   "metadata": {},
   "outputs": [
    {
     "data": {
      "text/plain": [
       "array([[[0.        , 0.10204082],\n",
       "        [0.20408163, 0.30612245],\n",
       "        [0.40816327, 0.51020408],\n",
       "        [0.6122449 , 0.71428571],\n",
       "        [0.81632653, 0.91836735]],\n",
       "\n",
       "       [[1.02040816, 1.12244898],\n",
       "        [1.2244898 , 1.32653061],\n",
       "        [1.42857143, 1.53061224],\n",
       "        [1.63265306, 1.73469388],\n",
       "        [1.83673469, 1.93877551]],\n",
       "\n",
       "       [[2.04081633, 2.14285714],\n",
       "        [2.24489796, 2.34693878],\n",
       "        [2.44897959, 2.55102041],\n",
       "        [2.65306122, 2.75510204],\n",
       "        [2.85714286, 2.95918367]],\n",
       "\n",
       "       [[3.06122449, 3.16326531],\n",
       "        [3.26530612, 3.36734694],\n",
       "        [3.46938776, 3.57142857],\n",
       "        [3.67346939, 3.7755102 ],\n",
       "        [3.87755102, 3.97959184]],\n",
       "\n",
       "       [[4.08163265, 4.18367347],\n",
       "        [4.28571429, 4.3877551 ],\n",
       "        [4.48979592, 4.59183673],\n",
       "        [4.69387755, 4.79591837],\n",
       "        [4.89795918, 5.        ]]])"
      ]
     },
     "execution_count": 22,
     "metadata": {},
     "output_type": "execute_result"
    }
   ],
   "source": [
    "a2.reshape(5,5,2)  # 3D output."
   ]
  },
  {
   "cell_type": "code",
   "execution_count": 23,
   "metadata": {},
   "outputs": [
    {
     "name": "stdout",
     "output_type": "stream",
     "text": [
      "[[7 1 8 2 2 3 8 2 9 2]\n",
      " [2 9 6 2 2 4 8 4 4 6]\n",
      " [2 3 5 7 3 4 8 4 3 9]\n",
      " [3 5 9 6 2 2 4 1 1 9]\n",
      " [5 6 9 4 2 3 7 5 5 1]\n",
      " [1 5 1 1 2 8 6 4 4 9]\n",
      " [3 7 1 2 5 1 7 9 9 4]\n",
      " [1 2 6 2 9 4 9 2 9 1]\n",
      " [1 8 5 4 7 2 8 3 1 7]\n",
      " [6 8 1 3 5 1 8 4 4 5]]\n"
     ]
    }
   ],
   "source": [
    "x=np.random.randint(1,10,(10,10))\n",
    "print(x)"
   ]
  },
  {
   "cell_type": "code",
   "execution_count": 24,
   "metadata": {},
   "outputs": [
    {
     "name": "stdout",
     "output_type": "stream",
     "text": [
      "7\n",
      "1\n",
      "6\n",
      "5\n"
     ]
    }
   ],
   "source": [
    "print(x[0,0]) # first row first column\n",
    "print(x[0,1]) # first row last column\n",
    "print(x[-1,0]) # last row first column\n",
    "print(x[-1,-1]) # last row last column"
   ]
  },
  {
   "cell_type": "code",
   "execution_count": 25,
   "metadata": {},
   "outputs": [
    {
     "name": "stdout",
     "output_type": "stream",
     "text": [
      "[7 1 8 2 2 3 8 2 9 2]\n",
      "[2 9 6 2 2 4 8 4 4 6]\n",
      "[6 8 1 3 5 1 8 4 4 5]\n",
      "[[7 1 8 2 2 3 8 2 9 2]\n",
      " [2 9 6 2 2 4 8 4 4 6]\n",
      " [2 3 5 7 3 4 8 4 3 9]]\n",
      "[[1 2 6 2 9 4 9 2 9 1]\n",
      " [1 8 5 4 7 2 8 3 1 7]\n",
      " [6 8 1 3 5 1 8 4 4 5]]\n"
     ]
    }
   ],
   "source": [
    "print(x[0]) # first row\n",
    "print(x[1]) # second row\n",
    "print(x[-1]) # last row\n",
    "print(x[:3]) # first 3 rows\n",
    "print(x[-3:]) # last 3 rows"
   ]
  },
  {
   "cell_type": "code",
   "execution_count": 26,
   "metadata": {},
   "outputs": [
    {
     "name": "stdout",
     "output_type": "stream",
     "text": [
      "[7 2 2 3 5 1 3 1 1 6]\n",
      "[2 6 9 9 1 9 4 1 7 5]\n",
      "[[7 1 8]\n",
      " [2 9 6]\n",
      " [2 3 5]\n",
      " [3 5 9]\n",
      " [5 6 9]\n",
      " [1 5 1]\n",
      " [3 7 1]\n",
      " [1 2 6]\n",
      " [1 8 5]\n",
      " [6 8 1]]\n",
      "[[2 9 2]\n",
      " [4 4 6]\n",
      " [4 3 9]\n",
      " [1 1 9]\n",
      " [5 5 1]\n",
      " [4 4 9]\n",
      " [9 9 4]\n",
      " [2 9 1]\n",
      " [3 1 7]\n",
      " [4 4 5]]\n"
     ]
    }
   ],
   "source": [
    "print(x[:,0]) # first column\n",
    "print(x[:,-1]) # last column\n",
    "print(x[:,:3]) # first 3 column\n",
    "print(x[:,-3:]) # last 3 column"
   ]
  },
  {
   "cell_type": "code",
   "execution_count": 27,
   "metadata": {},
   "outputs": [
    {
     "name": "stdout",
     "output_type": "stream",
     "text": [
      "[[7 8 2 3]\n",
      " [2 6 2 4]\n",
      " [2 5 7 4]\n",
      " [3 9 6 2]\n",
      " [5 9 4 3]\n",
      " [1 1 1 8]\n",
      " [3 1 2 1]\n",
      " [1 6 2 4]\n",
      " [1 5 4 2]\n",
      " [6 1 3 1]]\n"
     ]
    }
   ],
   "source": [
    "print(x[:,[0,2,3,5]]) # will print 1st,3rd,4th and 6th column."
   ]
  },
  {
   "cell_type": "code",
   "execution_count": 28,
   "metadata": {},
   "outputs": [
    {
     "data": {
      "text/plain": [
       "array([[False,  True, False,  True,  True,  True, False,  True, False,\n",
       "         True],\n",
       "       [ True, False, False,  True,  True,  True, False,  True,  True,\n",
       "        False],\n",
       "       [ True,  True, False, False,  True,  True, False,  True,  True,\n",
       "        False],\n",
       "       [ True, False, False, False,  True,  True,  True,  True,  True,\n",
       "        False],\n",
       "       [False, False, False,  True,  True,  True, False, False, False,\n",
       "         True],\n",
       "       [ True, False,  True,  True,  True, False, False,  True,  True,\n",
       "        False],\n",
       "       [ True, False,  True,  True, False,  True, False, False, False,\n",
       "         True],\n",
       "       [ True,  True, False,  True, False,  True, False,  True, False,\n",
       "         True],\n",
       "       [ True, False, False,  True, False,  True, False,  True,  True,\n",
       "        False],\n",
       "       [False, False,  True,  True, False,  True, False,  True,  True,\n",
       "        False]])"
      ]
     },
     "execution_count": 28,
     "metadata": {},
     "output_type": "execute_result"
    }
   ],
   "source": [
    "x<5  # boolean filter."
   ]
  },
  {
   "cell_type": "code",
   "execution_count": 29,
   "metadata": {},
   "outputs": [
    {
     "data": {
      "text/plain": [
       "array([1, 2, 2, 3, 2, 2, 2, 2, 2, 4, 4, 4, 2, 3, 3, 4, 4, 3, 3, 2, 2, 4,\n",
       "       1, 1, 4, 2, 3, 1, 1, 1, 1, 2, 4, 4, 3, 1, 2, 1, 4, 1, 2, 2, 4, 2,\n",
       "       1, 1, 4, 2, 3, 1, 1, 3, 1, 4, 4])"
      ]
     },
     "execution_count": 29,
     "metadata": {},
     "output_type": "execute_result"
    }
   ],
   "source": [
    "x[x<5]"
   ]
  },
  {
   "cell_type": "code",
   "execution_count": 30,
   "metadata": {},
   "outputs": [
    {
     "data": {
      "text/plain": [
       "array([7, 8, 8, 9, 9, 6, 8, 6, 7, 8, 9, 9, 6, 9, 6, 9, 7, 8, 6, 9, 7, 7,\n",
       "       9, 9, 6, 9, 9, 9, 8, 7, 8, 7, 6, 8, 8])"
      ]
     },
     "execution_count": 30,
     "metadata": {},
     "output_type": "execute_result"
    }
   ],
   "source": [
    "x[x>5]"
   ]
  },
  {
   "cell_type": "code",
   "execution_count": 31,
   "metadata": {},
   "outputs": [
    {
     "data": {
      "text/plain": [
       "array([3, 6, 4, 4, 4, 6, 3, 5, 3, 4, 4, 3, 3, 5, 6, 4, 5, 6, 4, 3, 5, 5,\n",
       "       5, 6, 4, 4, 3, 5, 4, 6, 4, 5, 4, 3, 6, 3, 5, 4, 4, 5])"
      ]
     },
     "execution_count": 31,
     "metadata": {},
     "output_type": "execute_result"
    }
   ],
   "source": [
    "x[(x>=3) & (x<=6)]"
   ]
  },
  {
   "cell_type": "code",
   "execution_count": 32,
   "metadata": {},
   "outputs": [
    {
     "data": {
      "text/plain": [
       "271"
      ]
     },
     "execution_count": 32,
     "metadata": {},
     "output_type": "execute_result"
    }
   ],
   "source": [
    "x[x>5].sum()"
   ]
  }
 ],
 "metadata": {
  "kernelspec": {
   "display_name": "base",
   "language": "python",
   "name": "python3"
  },
  "language_info": {
   "codemirror_mode": {
    "name": "ipython",
    "version": 3
   },
   "file_extension": ".py",
   "mimetype": "text/x-python",
   "name": "python",
   "nbconvert_exporter": "python",
   "pygments_lexer": "ipython3",
   "version": "3.10.10"
  },
  "orig_nbformat": 4
 },
 "nbformat": 4,
 "nbformat_minor": 2
}
